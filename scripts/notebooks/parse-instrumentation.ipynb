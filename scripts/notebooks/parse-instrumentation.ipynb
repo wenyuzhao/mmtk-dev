{
 "cells": [
  {
   "cell_type": "code",
   "execution_count": 13,
   "metadata": {},
   "outputs": [
    {
     "name": "stdout",
     "output_type": "stream",
     "text": [
      "21\n",
      "kafka\n"
     ]
    }
   ],
   "source": [
    "import gzip\n",
    "from pathlib import Path\n",
    "import shutil\n",
    "\n",
    "RUNID = \"lxr-instrumentation-bee-2024-06-08-Sat-053011\"\n",
    "\n",
    "LOGDIR = Path(\"/home/wenyuz/MMTk-Dev/evaluation/results/log\") / RUNID\n",
    "\n",
    "LOGFILES = list(LOGDIR.glob(\"*.jdk-lxr-objsize.*.log.gz\"))\n",
    "\n",
    "BENCHMARKS = list(set(f.name.split(\".\")[0] for f in LOGFILES))\n",
    "\n",
    "# print(BENCHMARKS, len(BENCHMARKS))\n",
    "\n",
    "\n",
    "def parse_log_file(log: Path):\n",
    "    bench = log.name.split(\".\")[0]\n",
    "    data_lines = []\n",
    "    recording = False\n",
    "    recording_objsize = False\n",
    "    with gzip.open(log, \"rt\") as f:\n",
    "        for line in f:\n",
    "            if f\"===== DaCapo 23.11-chopin {bench} starting =====\" in line:\n",
    "                recording = True\n",
    "            elif f\"===== DaCapo 23.11-chopin {bench}\" in line:\n",
    "                recording = False\n",
    "            elif recording:\n",
    "                if \"Static Size Distribution:\" in line:\n",
    "                    recording_objsize = True\n",
    "                    data_lines = []\n",
    "                elif recording_objsize:\n",
    "                    if not line.startswith(\" - obj-size=\"):\n",
    "                        recording_objsize = False\n",
    "                    else:\n",
    "                        data_lines.append(line.strip())\n",
    "    if len(data_lines) > 0:\n",
    "        # print(data_lines)\n",
    "        dist = []\n",
    "        for line in data_lines:\n",
    "            segs = line.split()\n",
    "            size_class = int(segs[1].split(\"=\")[1])\n",
    "            count = int(segs[2].split(\"=\")[1])\n",
    "            total_size = int(segs[3].split(\"=\")[1])\n",
    "            dist.append((size_class, count, total_size))\n",
    "        # print(stats_list)\n",
    "        return dist\n",
    "    return False\n",
    "\n",
    "\n",
    "count = 0\n",
    "bms = []\n",
    "for logfile in LOGFILES:\n",
    "    # print(\"🟢 \" + logfile.name)\n",
    "    benchmark = logfile.name.split(\".\")[0]\n",
    "    # print(\"🟣 \" + benchmark)\n",
    "    if parse_log_file(logfile):\n",
    "        count += 1\n",
    "        bms.append(benchmark)\n",
    "\n",
    "    # break\n",
    "print(count)\n",
    "for b in BENCHMARKS:\n",
    "    if b not in bms:\n",
    "        print(b)\n",
    "# print(set(bms) - set(BENCHMARKS))\n",
    "\n",
    "# with gzip.open(LOGDIR / \"avrora.1989.10.jdk-lxr-alloc.lxr.common3.tph.mmtk_verbose.dacapochopin.log.gz\", \"rt\") as f_in:\n",
    "#     for line in f_in:\n",
    "#         print(line)"
   ]
  }
 ],
 "metadata": {
  "kernelspec": {
   "display_name": "mmtk-dev-meEu8Drr-py3.10",
   "language": "python",
   "name": "python3"
  },
  "language_info": {
   "codemirror_mode": {
    "name": "ipython",
    "version": 3
   },
   "file_extension": ".py",
   "mimetype": "text/x-python",
   "name": "python",
   "nbconvert_exporter": "python",
   "pygments_lexer": "ipython3",
   "version": "3.10.6"
  }
 },
 "nbformat": 4,
 "nbformat_minor": 2
}
