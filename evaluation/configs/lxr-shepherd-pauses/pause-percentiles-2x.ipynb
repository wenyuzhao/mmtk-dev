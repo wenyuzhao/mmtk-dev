{
 "cells": [
  {
   "cell_type": "code",
   "execution_count": 7,
   "metadata": {},
   "outputs": [],
   "source": [
    "from hdrh.histogram import HdrHistogram\n",
    "import seaborn as sns\n",
    "import pandas\n",
    "import pandas as pd\n",
    "from matplotlib import pyplot as plt\n",
    "import os.path\n",
    "from enum import Enum\n",
    "import matplotlib as mpl\n",
    "from typing import *\n",
    "\n",
    "INVOCATIONS=3\n",
    "\n",
    "def load_data(invocation: int, folder: str):\n",
    "    path = os.path.realpath(os.path.expanduser('{}.{}/pauses.csv'.format(folder, invocation)))\n",
    "    if not os.path.isfile(path):\n",
    "        return None\n",
    "    df =  pandas.read_csv(path, names=[\"nanos\"])\n",
    "    df[\"millis\"] = df[\"nanos\"] / 1000000\n",
    "    df[\"micros\"] = df[\"nanos\"] / 1000\n",
    "    return df\n",
    "\n",
    "\n",
    "def load_and_dump_data(name: str, runid: str, buildstring: str):\n",
    "    folder = f'~/MMTk-Dev/evaluation/results/log/{runid}/{buildstring}'\n",
    "    dfs = []\n",
    "    for i in range(INVOCATIONS):\n",
    "        dfs.append(load_data(i, folder))\n",
    "    df = pd.concat(dfs, ignore_index=True)\n",
    "    percentiles = {\n",
    "        '50': df['millis'].quantile(0.5),\n",
    "        '99': df['millis'].quantile(0.99),\n",
    "        '99.9': df['millis'].quantile(0.999),\n",
    "        '99.99': df['millis'].quantile(0.9999),\n",
    "    }\n",
    "    print(name + ':    ' + '  '.join([f'{k}%={x:.1f}' for k, x in percentiles.items()]))\n",
    "    # print(name + ':    ' + ' & '.join([f'{x:.1f}' for _, x in percentiles.items()]))"
   ]
  },
  {
   "cell_type": "code",
   "execution_count": 8,
   "metadata": {},
   "outputs": [
    {
     "name": "stdout",
     "output_type": "stream",
     "text": [
      "G1:    50%=0.6  99%=1.0  99.9%=1.2  99.99%=1.6\n",
      "Shen.:    50%=0.1  99%=0.5  99.9%=0.6  99.99%=2.2\n",
      "Shen. 7/8:    50%=0.2  99%=0.4  99.9%=0.6  99.99%=1.4\n",
      "Shen. 10x:    50%=0.2  99%=0.6  99.9%=0.7  99.99%=0.8\n",
      "LXR:    50%=2.2  99%=3.5  99.9%=8.1  99.99%=11.9\n"
     ]
    }
   ],
   "source": [
    "RUNID = 'elk-2022-03-21-Mon-062551'\n",
    "RUNID_10X = 'elk-2022-03-21-Mon-042713'\n",
    "\n",
    "load_and_dump_data(name='G1', runid=RUNID, buildstring='lusearch.2000.106.jdk-lxr.g1.common.hs_pauses.dacapochopin-29a657f')\n",
    "load_and_dump_data(name='Shen.', runid=RUNID, buildstring='lusearch.2000.106.jdk-lxr.shenandoah.common.hs_pauses.dacapochopin-29a657f')\n",
    "load_and_dump_data(name='Shen. 7/8', runid=RUNID, buildstring='lusearch.2000.106.jdk-lxr.shenandoah.common.hs_pauses.hs_cgc-21.dacapochopin-29a657f')\n",
    "load_and_dump_data(name='Shen. 10x', runid=RUNID_10X, buildstring='lusearch.10000.530.jdk-lxr.shenandoah.common.hs_pauses.dacapochopin-29a657f')\n",
    "load_and_dump_data(name='LXR', runid=RUNID, buildstring='lusearch.2000.106.jdk-lxr.ix.common.tph.nr-1.dacapochopin-29a657f')"
   ]
  }
 ],
 "metadata": {
  "interpreter": {
   "hash": "31f2aee4e71d21fbe5cf8b01ff0e069b9275f58929596ceb00d14d90e3e16cd6"
  },
  "kernelspec": {
   "display_name": "Python 3.6.9 64-bit",
   "language": "python",
   "name": "python3"
  },
  "language_info": {
   "codemirror_mode": {
    "name": "ipython",
    "version": 3
   },
   "file_extension": ".py",
   "mimetype": "text/x-python",
   "name": "python",
   "nbconvert_exporter": "python",
   "pygments_lexer": "ipython3",
   "version": "3.6.9"
  },
  "orig_nbformat": 4
 },
 "nbformat": 4,
 "nbformat_minor": 2
}
